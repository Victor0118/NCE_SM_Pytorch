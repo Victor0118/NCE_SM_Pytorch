{
 "cells": [
  {
   "cell_type": "code",
   "execution_count": 2,
   "metadata": {
    "collapsed": true
   },
   "outputs": [],
   "source": [
    "import time\n",
    "import os\n",
    "import numpy as np\n",
    "import random\n",
    "\n",
    "import torch\n",
    "import torch.nn as nn\n",
    "from torchtext import data\n",
    "\n",
    "from args import get_args\n",
    "from model import SmPlusPlus\n",
    "from trec_dataset import TrecDataset\n",
    "from wiki_dataset import WikiDataset\n",
    "from evaluate import evaluate\n",
    "from torch.autograd import Variable\n"
   ]
  },
  {
   "cell_type": "code",
   "execution_count": 13,
   "metadata": {
    "collapsed": true
   },
   "outputs": [],
   "source": [
    "# TEXT = data.Field(batch_first=True, tokenize=clean_str_sst)\n",
    "# LABEL = data.Field(sequential=False)\n",
    "def set_vectors(field, vector_path):\n",
    "    if os.path.isfile(vector_path):\n",
    "        stoi, vectors, dim = torch.load(vector_path)\n",
    "        field.vocab.vectors = torch.Tensor(len(field.vocab), dim)\n",
    "\n",
    "        for i, token in enumerate(field.vocab.itos):\n",
    "            wv_index = stoi.get(token, None)\n",
    "            if wv_index is not None:\n",
    "                field.vocab.vectors[i] = vectors[wv_index]\n",
    "            else:\n",
    "                # initialize <unk> with U(-0.25, 0.25) vectors\n",
    "                field.vocab.vectors[i] = torch.FloatTensor(dim).uniform_(-0.25, 0.25)\n",
    "    else:\n",
    "        print(\"Error: Need word embedding pt file\")\n",
    "        print(\"Error: Need word embedding pt file\")\n",
    "        exit(1)\n",
    "    return field\n",
    "\n",
    "QID = data.Field(sequential=False)\n",
    "AID = data.Field(sequential=False)\n",
    "QUESTION = data.Field(batch_first=True)\n",
    "ANSWER = data.Field(batch_first=True)\n",
    "LABEL = data.Field(sequential=False)\n",
    "EXTERNAL = data.Field(sequential=False, tensor_type=torch.FloatTensor, batch_first=True, use_vocab=False,\n",
    "                      preprocessing=data.Pipeline(lambda x: x.split()),\n",
    "                      postprocessing=data.Pipeline(lambda x, train: [float(y) for y in x]))\n",
    "\n",
    "train, dev, test = TrecDataset.splits(QID, QUESTION, AID, ANSWER, EXTERNAL, LABEL)\n",
    "\n",
    "QID.build_vocab(train, dev, test)\n",
    "AID.build_vocab(train, dev, test)\n",
    "QUESTION.build_vocab(train, dev, test)\n",
    "ANSWER.build_vocab(train, dev, test)\n",
    "LABEL.build_vocab(train, dev, test)\n",
    "vector_cache = \"data/word2vec.trecqa.pt\"\n",
    "\n",
    "QUESTION = set_vectors(QUESTION, vector_cache)\n",
    "ANSWER = set_vectors(ANSWER, vector_cache)"
   ]
  },
  {
   "cell_type": "code",
   "execution_count": 62,
   "metadata": {},
   "outputs": [
    {
     "data": {
      "text/plain": [
       "array(['<unk>', '0', '1'],\n",
       "      dtype='<U5')"
      ]
     },
     "execution_count": 62,
     "metadata": {},
     "output_type": "execute_result"
    }
   ],
   "source": [
    "index2label = np.array(LABEL.vocab.itos)\n",
    "index2label"
   ]
  },
  {
   "cell_type": "code",
   "execution_count": 3,
   "metadata": {},
   "outputs": [
    {
     "data": {
      "text/plain": [
       "{'aid': <torchtext.data.field.Field at 0x7fd327e15e48>,\n",
       " 'answer': <torchtext.data.field.Field at 0x7fd327e15ef0>,\n",
       " 'ext_feat': <torchtext.data.field.Field at 0x7fd327e15f98>,\n",
       " 'label': <torchtext.data.field.Field at 0x7fd327e15f28>,\n",
       " 'qid': <torchtext.data.field.Field at 0x7fd327e15dd8>,\n",
       " 'question': <torchtext.data.field.Field at 0x7fd327e15eb8>}"
      ]
     },
     "execution_count": 3,
     "metadata": {},
     "output_type": "execute_result"
    }
   ],
   "source": [
    "train.fields"
   ]
  },
  {
   "cell_type": "code",
   "execution_count": 47,
   "metadata": {},
   "outputs": [
    {
     "name": "stdout",
     "output_type": "stream",
     "text": [
      "['__class__', '__delattr__', '__dict__', '__dir__', '__doc__', '__eq__', '__format__', '__ge__', '__getattribute__', '__gt__', '__hash__', '__init__', '__init_subclass__', '__le__', '__lt__', '__module__', '__ne__', '__new__', '__reduce__', '__reduce_ex__', '__repr__', '__setattr__', '__sizeof__', '__str__', '__subclasshook__', '__weakref__', 'aid', 'answer', 'ext_feat', 'fromCSV', 'fromJSON', 'fromTSV', 'fromdict', 'fromlist', 'fromtree', 'label', 'qid', 'question']\n"
     ]
    }
   ],
   "source": [
    "print(dir(train.examples[1]))\n"
   ]
  },
  {
   "cell_type": "code",
   "execution_count": 50,
   "metadata": {},
   "outputs": [
    {
     "data": {
      "text/plain": [
       "torchtext.data.example.Example"
      ]
     },
     "execution_count": 50,
     "metadata": {},
     "output_type": "execute_result"
    }
   ],
   "source": [
    "type(train.examples[0])"
   ]
  },
  {
   "cell_type": "code",
   "execution_count": 4,
   "metadata": {},
   "outputs": [
    {
     "name": "stdout",
     "output_type": "stream",
     "text": [
      "['__class__', '__delattr__', '__dict__', '__dir__', '__doc__', '__eq__', '__format__', '__ge__', '__getattribute__', '__gt__', '__hash__', '__init__', '__init_subclass__', '__le__', '__lt__', '__module__', '__ne__', '__new__', '__reduce__', '__reduce_ex__', '__repr__', '__setattr__', '__sizeof__', '__str__', '__subclasshook__', '__weakref__', 'aid', 'answer', 'ext_feat', 'fromCSV', 'fromJSON', 'fromTSV', 'fromdict', 'fromlist', 'fromtree', 'label', 'qid', 'question']\n",
      "['who', 'is', 'the', 'author', 'of', 'the', 'book', ',', '``', 'the', 'iron', 'lady', ':', 'a', 'biography', 'of', 'margaret', 'thatcher', \"''\", '?']\n",
      "['__class__', '__delattr__', '__dict__', '__dir__', '__doc__', '__eq__', '__format__', '__ge__', '__getattribute__', '__gt__', '__hash__', '__init__', '__init_subclass__', '__le__', '__lt__', '__module__', '__ne__', '__new__', '__reduce__', '__reduce_ex__', '__repr__', '__setattr__', '__sizeof__', '__str__', '__subclasshook__', '__weakref__', 'aid', 'answer', 'batch_size', 'dataset', 'ext_feat', 'fromvars', 'label', 'qid', 'question', 'train']\n",
      "['__class__', '__delattr__', '__dict__', '__dir__', '__doc__', '__eq__', '__format__', '__ge__', '__getattr__', '__getattribute__', '__getitem__', '__gt__', '__hash__', '__init__', '__init_subclass__', '__iter__', '__le__', '__len__', '__lt__', '__module__', '__ne__', '__new__', '__reduce__', '__reduce_ex__', '__repr__', '__setattr__', '__sizeof__', '__str__', '__subclasshook__', '__weakref__', 'dirname', 'download', 'examples', 'fields', 'sort_key', 'splits']\n",
      "<bound method Batch.fromvars of <class 'torchtext.data.batch.Batch'>>\n"
     ]
    }
   ],
   "source": [
    "# print(type(train.splits()))\n",
    "print(dir(train.examples[1]))\n",
    "print(train[1].question)\n",
    "train_iter = data.Iterator(train, batch_size=1000, device=-1, train = True, repeat=False,\n",
    "                                   sort=False, shuffle=True)\n",
    "train_iter.init_epoch()\n",
    "for batch_idx, batch in enumerate(train_iter):\n",
    "    print(dir(batch))\n",
    "    print(dir(batch.dataset))\n",
    "    print(batch.fromvars)\n",
    "    break"
   ]
  },
  {
   "cell_type": "code",
   "execution_count": 5,
   "metadata": {},
   "outputs": [
    {
     "data": {
      "text/plain": [
       "['__class__',\n",
       " '__delattr__',\n",
       " '__dict__',\n",
       " '__dir__',\n",
       " '__doc__',\n",
       " '__eq__',\n",
       " '__format__',\n",
       " '__ge__',\n",
       " '__getattribute__',\n",
       " '__gt__',\n",
       " '__hash__',\n",
       " '__init__',\n",
       " '__init_subclass__',\n",
       " '__le__',\n",
       " '__lt__',\n",
       " '__module__',\n",
       " '__ne__',\n",
       " '__new__',\n",
       " '__reduce__',\n",
       " '__reduce_ex__',\n",
       " '__repr__',\n",
       " '__setattr__',\n",
       " '__sizeof__',\n",
       " '__str__',\n",
       " '__subclasshook__',\n",
       " '__weakref__',\n",
       " 'aid',\n",
       " 'answer',\n",
       " 'batch_size',\n",
       " 'dataset',\n",
       " 'ext_feat',\n",
       " 'fromvars',\n",
       " 'label',\n",
       " 'qid',\n",
       " 'question',\n",
       " 'train']"
      ]
     },
     "execution_count": 5,
     "metadata": {},
     "output_type": "execute_result"
    }
   ],
   "source": [
    "dir(batch)"
   ]
  },
  {
   "cell_type": "code",
   "execution_count": 6,
   "metadata": {},
   "outputs": [
    {
     "data": {
      "text/plain": [
       "1"
      ]
     },
     "execution_count": 6,
     "metadata": {},
     "output_type": "execute_result"
    }
   ],
   "source": [
    "batch.label[1].cpu().data.numpy()[0]"
   ]
  },
  {
   "cell_type": "code",
   "execution_count": null,
   "metadata": {
    "collapsed": true
   },
   "outputs": [],
   "source": []
  },
  {
   "cell_type": "code",
   "execution_count": 7,
   "metadata": {},
   "outputs": [
    {
     "name": "stderr",
     "output_type": "stream",
     "text": [
      "/home/w85yang/anaconda3/lib/python3.6/site-packages/torch/serialization.py:294: SourceChangeWarning: source code of class 'model.SmPlusPlus' has changed. you can retrieve the original source code by accessing the object's source attribute or set `torch.nn.Module.dump_patches = True` and use the patch tool to revert the changes.\n",
      "  warnings.warn(msg, SourceChangeWarning)\n"
     ]
    }
   ],
   "source": [
    "resume_snapshot = \"saves/TREC/multichannel_best_model.pt\"\n",
    "model = torch.load(resume_snapshot, map_location=lambda storage, location: storage)\n",
    "\n",
    "model.train();\n",
    "features = model(batch)"
   ]
  },
  {
   "cell_type": "code",
   "execution_count": 38,
   "metadata": {},
   "outputs": [
    {
     "ename": "NameError",
     "evalue": "name 'question' is not defined",
     "output_type": "error",
     "traceback": [
      "\u001b[0;31m---------------------------------------------------------------------------\u001b[0m",
      "\u001b[0;31mNameError\u001b[0m                                 Traceback (most recent call last)",
      "\u001b[0;32m<ipython-input-38-6d3047d42118>\u001b[0m in \u001b[0;36m<module>\u001b[0;34m()\u001b[0m\n\u001b[1;32m      1\u001b[0m \u001b[0mi\u001b[0m \u001b[0;34m=\u001b[0m \u001b[0;36m0\u001b[0m\u001b[0;34m\u001b[0m\u001b[0m\n\u001b[0;32m----> 2\u001b[0;31m \u001b[0mmodel\u001b[0m\u001b[0;34m(\u001b[0m\u001b[0;34m{\u001b[0m\u001b[0mquestion\u001b[0m\u001b[0;34m:\u001b[0m\u001b[0mbatch\u001b[0m\u001b[0;34m.\u001b[0m\u001b[0mquestion\u001b[0m\u001b[0;34m[\u001b[0m\u001b[0mi\u001b[0m\u001b[0;34m]\u001b[0m\u001b[0;34m,\u001b[0m \u001b[0manswer\u001b[0m\u001b[0;34m:\u001b[0m\u001b[0mbatch\u001b[0m\u001b[0;34m.\u001b[0m\u001b[0manswer\u001b[0m\u001b[0;34m[\u001b[0m\u001b[0mi\u001b[0m\u001b[0;34m]\u001b[0m\u001b[0;34m,\u001b[0m \u001b[0mext_feat\u001b[0m\u001b[0;34m:\u001b[0m\u001b[0mbatch\u001b[0m\u001b[0;34m.\u001b[0m\u001b[0mext_feat\u001b[0m\u001b[0;34m[\u001b[0m\u001b[0mi\u001b[0m\u001b[0;34m]\u001b[0m\u001b[0;34m}\u001b[0m\u001b[0;34m)\u001b[0m\u001b[0;34m\u001b[0m\u001b[0m\n\u001b[0m",
      "\u001b[0;31mNameError\u001b[0m: name 'question' is not defined"
     ]
    }
   ],
   "source": [
    "i = 0\n",
    "new_train = {\"ext_feat\":[], \"question\":[], \"answer\":[], \"label\":[]}\n",
    "new_train[\"answer\"].append(near_answer)\n",
    "new_train[\"question\"].append(q)\n",
    "new_train[\"label\"].append(label_dict[l])\n",
    "new_train[\"ext_feat\"].append(batch.ext_feat[x])\n",
    "new_batch = data.Batch()\n",
    "new_batch.batch_size = 1\n",
    "new_batch.dataset = batch.dataset\n",
    "setattr(new_batch,\"answer\",torch.stack(new_train[\"answer\"]))\n",
    "setattr(new_batch,\"question\",torch.stack(new_train[\"question\"]))\n",
    "setattr(new_batch,\"ext_feat\",torch.stack(new_train[\"ext_feat\"]))\n",
    "setattr(new_batch,\"label\",torch.stack(new_train[\"label\"]).view(-1))\n",
    "# model({question:batch.question[i], answer:batch.answer[i], ext_feat:batch.ext_feat[i]})"
   ]
  },
  {
   "cell_type": "code",
   "execution_count": 41,
   "metadata": {},
   "outputs": [
    {
     "ename": "NameError",
     "evalue": "name 'new_train' is not defined",
     "output_type": "error",
     "traceback": [
      "\u001b[0;31m---------------------------------------------------------------------------\u001b[0m",
      "\u001b[0;31mNameError\u001b[0m                                 Traceback (most recent call last)",
      "\u001b[0;32m<ipython-input-41-19f6b554df5d>\u001b[0m in \u001b[0;36m<module>\u001b[0;34m()\u001b[0m\n\u001b[0;32m----> 1\u001b[0;31m \u001b[0mnew_train\u001b[0m\u001b[0;34m\u001b[0m\u001b[0m\n\u001b[0m",
      "\u001b[0;31mNameError\u001b[0m: name 'new_train' is not defined"
     ]
    }
   ],
   "source": []
  },
  {
   "cell_type": "code",
   "execution_count": 5,
   "metadata": {},
   "outputs": [
    {
     "data": {
      "text/plain": [
       "(1000, 204)"
      ]
     },
     "execution_count": 5,
     "metadata": {},
     "output_type": "execute_result"
    }
   ],
   "source": [
    "features.data.cpu().numpy().shape"
   ]
  },
  {
   "cell_type": "code",
   "execution_count": 33,
   "metadata": {},
   "outputs": [
    {
     "data": {
      "text/plain": [
       "array(['518', '748', '825', '1063', '1090', '134', '1737', '2296', '35',\n",
       "       '54', '898', '1929', '1074', '1235', '1501', '253', '27.1', '294',\n",
       "       '515', '612', '1060', '1085', '1274', '130', '1375', '1389', '1669',\n",
       "       '1697', '1806', '1876', '204', '2052', '605', '738', '821', '1017',\n",
       "       '1171', '1715', '1767', '1930', '1944', '207', '242', '517', '547',\n",
       "       '627', '689', '1071', '1559', '1718', '2088', '22.1', '36.1', '381',\n",
       "       '48.1', '822', '1149', '1229', '1346', '1417', '1645', '1733',\n",
       "       '390', '476', '676', '891', '930', '117', '1231', '1310', '1536',\n",
       "       '2261', '309', '34.1', '35.3', '4.2', '409', '47', '559', '58',\n",
       "       '707', '1196', '1208', '1953', '1971', '2190', '362', '389', '40.4',\n",
       "       '41.1', '1125', '1139', '1167', '118', '1245', '1263', '1302',\n",
       "       '1510', '1658', '1674', '183', '1839', '1967', '585', '640', '7',\n",
       "       '788', '828', '1275', '140', '15', '1612', '1678', '1729', '251',\n",
       "       '321', '594', '600', '611', '99', '1008', '1057', '1239', '1465',\n",
       "       '2048', '2294', '289', '376', '454', '998', '1253', '1426', '1524',\n",
       "       '1589', '35.1', '502', '6.2', '705', '746', '966', '969', '2029',\n",
       "       '2248', '2282', '367', '653', '744', '1', '1279', '1530', '1682',\n",
       "       '1980', '2367', '265', '36.5', '441', '579', '804', '940', '1024',\n",
       "       '1103', '1512', '1652', '1722', '1837', '2293', '426', '890',\n",
       "       '11.6', '1500', '1599', '1870', '2310', '446', '602', '1020', '11',\n",
       "       '1173', '1242', '127', '1342', '1379', '1505', '1525', '1529',\n",
       "       '1735', '1912', '2020', '2214', '498', '537', '60', '801', '803',\n",
       "       '9.3', '1665', '221', '2312', '2391', '260', '312', '44.1', '47.2',\n",
       "       '473', '658', '683', '832', '1100', '1321', '1358', '143', '1523',\n",
       "       '1646', '1693', '1807', '1900', '2071', '283', '408', '6', '629',\n",
       "       '701', '749', '802', '831', '88', '1145', '1444', '1499', '1605',\n",
       "       '1947', '2205', '429', '52.4', '620', '702', '704', '778', '779',\n",
       "       '780', '1382', '1428', '1566', '1672', '178', '2115', '2350',\n",
       "       '2353', '273', '386', '404', '480', '5.1', '541', '55', '56.1',\n",
       "       '71', '840', '881', '882', '908', '985', '1105', '1490', '171',\n",
       "       '2264', '497', '533', '1404', '1470', '1515', '1526', '1603',\n",
       "       '1763', '1772', '2084', '212', '2364', '372', '50.1', '510', '52.1',\n",
       "       '534', '573', '59.1', '961', '996', '1162', '1666', '167', '1730',\n",
       "       '1867', '2099', '2328', '3.1', '304', '406', '661', '745', '759',\n",
       "       '86', '933', '1250', '1345', '1349', '150', '1671', '1780', '1793',\n",
       "       '191', '2235', '2239', '2344', '264', '316', '328', '379', '65.5',\n",
       "       '70', '80'],\n",
       "      dtype='<U5')"
      ]
     },
     "execution_count": 33,
     "metadata": {},
     "output_type": "execute_result"
    }
   ],
   "source": [
    "index2qid = np.array(QID.vocab.itos)\n",
    "# index2qid\n"
   ]
  },
  {
   "cell_type": "code",
   "execution_count": 7,
   "metadata": {},
   "outputs": [
    {
     "data": {
      "text/plain": [
       "Variable containing:\n",
       "-1.2799e-01 -3.0379e-02 -4.7480e-01  ...   1.2660e-01  6.1756e-02 -3.1299e-01\n",
       "-2.5744e-01 -2.1584e-02 -5.4953e-01  ...   1.9152e-01 -1.8904e-02 -4.0735e-01\n",
       "-1.5847e-01  1.1012e-01 -4.7973e-01  ...   1.6229e-01  2.5392e-01 -4.0335e-01\n",
       "                ...                   ⋱                   ...                \n",
       "-2.9572e-01 -1.9766e-02 -5.5622e-01  ...   2.1145e-01 -3.4282e-02 -4.2156e-01\n",
       "-2.1236e-01 -2.4452e-02 -5.3466e-01  ...   1.2155e-01 -3.6664e-02 -3.5795e-01\n",
       "-1.3215e-01 -2.3809e-02 -5.6484e-01  ...   1.6987e-01  2.4750e-02 -4.1851e-01\n",
       "[torch.FloatTensor of size 1000x204]"
      ]
     },
     "execution_count": 7,
     "metadata": {},
     "output_type": "execute_result"
    }
   ],
   "source": [
    "import torch.nn.functional as F\n",
    "F.tanh(model.combined_feature_vector(features))"
   ]
  },
  {
   "cell_type": "code",
   "execution_count": 8,
   "metadata": {},
   "outputs": [
    {
     "data": {
      "text/plain": [
       "Variable containing:\n",
       "-0.3792 -0.0000 -0.9834  ...   0.2067  0.0000 -0.0000\n",
       "-0.0000 -0.0571 -1.0969  ...   0.0000  0.0000 -0.0000\n",
       "-0.3504  0.0563 -0.0000  ...   0.0000  0.0191 -0.0000\n",
       "          ...             ⋱             ...          \n",
       "-0.3124 -0.0000 -0.9964  ...   0.2556  0.0101 -0.6769\n",
       "-0.0000 -0.0000 -1.0005  ...   0.3454  0.0000 -0.5915\n",
       "-0.0000  0.1076 -0.0000  ...   0.0000  0.3264 -0.6988\n",
       "[torch.FloatTensor of size 1000x204]"
      ]
     },
     "execution_count": 8,
     "metadata": {},
     "output_type": "execute_result"
    }
   ],
   "source": [
    "model.dropout(features)"
   ]
  },
  {
   "cell_type": "code",
   "execution_count": 13,
   "metadata": {},
   "outputs": [
    {
     "data": {
      "text/plain": [
       "torch.Size([1000, 204])"
      ]
     },
     "execution_count": 13,
     "metadata": {},
     "output_type": "execute_result"
    }
   ],
   "source": [
    "features.size()"
   ]
  },
  {
   "cell_type": "code",
   "execution_count": 14,
   "metadata": {},
   "outputs": [
    {
     "data": {
      "text/plain": [
       "Variable containing:\n",
       "-3.8244e+00  2.6957e+00 -7.2175e-02\n",
       "-3.9288e+00  2.2850e+00 -1.1860e-01\n",
       "-4.0627e+00  2.1671e+00  3.0250e-01\n",
       "                 ⋮                  \n",
       "-4.5525e+00  2.4905e+00 -8.6415e-02\n",
       "-3.8286e+00  1.7874e+00  5.5805e-01\n",
       "-4.4491e+00  2.3969e+00 -2.4469e-01\n",
       "[torch.FloatTensor of size 1000x3]"
      ]
     },
     "execution_count": 14,
     "metadata": {},
     "output_type": "execute_result"
    }
   ],
   "source": [
    "model.hidden(features)"
   ]
  },
  {
   "cell_type": "code",
   "execution_count": 24,
   "metadata": {
    "collapsed": true
   },
   "outputs": [],
   "source": [
    "# batch.aid.data.numpy()\n",
    "test = [features.data.cpu().numpy()[5],features.data.cpu().numpy()[7]]"
   ]
  },
  {
   "cell_type": "code",
   "execution_count": 25,
   "metadata": {},
   "outputs": [
    {
     "data": {
      "text/plain": [
       "(2, 204)"
      ]
     },
     "execution_count": 25,
     "metadata": {},
     "output_type": "execute_result"
    }
   ],
   "source": [
    "np.array(test).shape"
   ]
  },
  {
   "cell_type": "code",
   "execution_count": 21,
   "metadata": {},
   "outputs": [
    {
     "data": {
      "text/plain": [
       "Variable containing:\n",
       " 1\n",
       " 1\n",
       " 1\n",
       "⋮ \n",
       " 1\n",
       " 2\n",
       " 1\n",
       "[torch.LongTensor of size 1000]"
      ]
     },
     "execution_count": 21,
     "metadata": {},
     "output_type": "execute_result"
    }
   ],
   "source": [
    "batch.label"
   ]
  },
  {
   "cell_type": "code",
   "execution_count": 83,
   "metadata": {
    "collapsed": true
   },
   "outputs": [],
   "source": [
    "if batch.label[1].data.numpy()[0] == 3:\n",
    "    print(\"OK\")"
   ]
  },
  {
   "cell_type": "code",
   "execution_count": 79,
   "metadata": {},
   "outputs": [
    {
     "name": "stdout",
     "output_type": "stream",
     "text": [
      "['T', '__abs__', '__add__', '__and__', '__array__', '__array_finalize__', '__array_interface__', '__array_prepare__', '__array_priority__', '__array_struct__', '__array_ufunc__', '__array_wrap__', '__bool__', '__class__', '__complex__', '__contains__', '__copy__', '__deepcopy__', '__delattr__', '__delitem__', '__dir__', '__divmod__', '__doc__', '__eq__', '__float__', '__floordiv__', '__format__', '__ge__', '__getattribute__', '__getitem__', '__gt__', '__hash__', '__iadd__', '__iand__', '__ifloordiv__', '__ilshift__', '__imatmul__', '__imod__', '__imul__', '__index__', '__init__', '__init_subclass__', '__int__', '__invert__', '__ior__', '__ipow__', '__irshift__', '__isub__', '__iter__', '__itruediv__', '__ixor__', '__le__', '__len__', '__lshift__', '__lt__', '__matmul__', '__mod__', '__mul__', '__ne__', '__neg__', '__new__', '__or__', '__pos__', '__pow__', '__radd__', '__rand__', '__rdivmod__', '__reduce__', '__reduce_ex__', '__repr__', '__rfloordiv__', '__rlshift__', '__rmatmul__', '__rmod__', '__rmul__', '__ror__', '__rpow__', '__rrshift__', '__rshift__', '__rsub__', '__rtruediv__', '__rxor__', '__setattr__', '__setitem__', '__setstate__', '__sizeof__', '__str__', '__sub__', '__subclasshook__', '__truediv__', '__xor__', 'all', 'any', 'argmax', 'argmin', 'argpartition', 'argsort', 'astype', 'base', 'byteswap', 'choose', 'clip', 'compress', 'conj', 'conjugate', 'copy', 'ctypes', 'cumprod', 'cumsum', 'data', 'diagonal', 'dot', 'dtype', 'dump', 'dumps', 'fill', 'flags', 'flat', 'flatten', 'getfield', 'imag', 'item', 'itemset', 'itemsize', 'max', 'mean', 'min', 'nbytes', 'ndim', 'newbyteorder', 'nonzero', 'partition', 'prod', 'ptp', 'put', 'ravel', 'real', 'repeat', 'reshape', 'resize', 'round', 'searchsorted', 'setfield', 'setflags', 'shape', 'size', 'sort', 'squeeze', 'std', 'strides', 'sum', 'swapaxes', 'take', 'tobytes', 'tofile', 'tolist', 'tostring', 'trace', 'transpose', 'var', 'view']\n"
     ]
    }
   ],
   "source": [
    "print(dir(batch.label[1].data.numpy()))"
   ]
  },
  {
   "cell_type": "code",
   "execution_count": 81,
   "metadata": {},
   "outputs": [
    {
     "data": {
      "text/plain": [
       "2"
      ]
     },
     "execution_count": 81,
     "metadata": {},
     "output_type": "execute_result"
    }
   ],
   "source": [
    "batch.label[1].data.numpy()[0]"
   ]
  },
  {
   "cell_type": "code",
   "execution_count": 19,
   "metadata": {},
   "outputs": [
    {
     "data": {
      "text/plain": [
       "array([[-0.        ,  0.07533404, -0.        , ...,  0.33050776,\n",
       "        -0.03647172, -0.        ],\n",
       "       [-0.50200146, -0.        , -0.        , ...,  0.        ,\n",
       "        -0.12017281, -0.        ],\n",
       "       [-0.        , -0.00975599, -0.        , ...,  0.3870208 ,\n",
       "        -0.        , -0.        ],\n",
       "       ..., \n",
       "       [-0.18306208,  0.16188723, -0.        , ...,  0.16567066,\n",
       "         0.        , -0.        ],\n",
       "       [-0.        ,  0.        , -0.        , ...,  0.36261645,\n",
       "         0.        , -0.        ],\n",
       "       [-0.38052365, -0.09780853, -0.        , ...,  0.        ,\n",
       "        -0.        , -0.79321569]], dtype=float32)"
      ]
     },
     "execution_count": 19,
     "metadata": {},
     "output_type": "execute_result"
    }
   ],
   "source": [
    "features.data.cpu().numpy()"
   ]
  },
  {
   "cell_type": "code",
   "execution_count": 84,
   "metadata": {},
   "outputs": [
    {
     "data": {
      "text/plain": [
       "Variable containing:\n",
       " 2\n",
       " 2\n",
       " 2\n",
       "⋮ \n",
       " 1\n",
       " 1\n",
       " 1\n",
       "[torch.LongTensor of size 1000]"
      ]
     },
     "execution_count": 84,
     "metadata": {},
     "output_type": "execute_result"
    }
   ],
   "source": [
    "batch.label"
   ]
  },
  {
   "cell_type": "code",
   "execution_count": 99,
   "metadata": {},
   "outputs": [
    {
     "data": {
      "text/plain": [
       "array([ 4.12310563,  5.83095189])"
      ]
     },
     "execution_count": 99,
     "metadata": {},
     "output_type": "execute_result"
    }
   ],
   "source": [
    "import numpy as np\n",
    "target_feature = [1,2,3]\n",
    "features = [[-1,-1,1],[-2,2,-2]]\n",
    "np.sqrt(np.sum((np.array(features)-target_feature)**2,axis = 1))\n"
   ]
  },
  {
   "cell_type": "code",
   "execution_count": 20,
   "metadata": {},
   "outputs": [
    {
     "name": "stdout",
     "output_type": "stream",
     "text": [
      "['__class__', '__delattr__', '__dict__', '__dir__', '__doc__', '__eq__', '__format__', '__ge__', '__getattribute__', '__gt__', '__hash__', '__init__', '__init_subclass__', '__le__', '__lt__', '__module__', '__ne__', '__new__', '__reduce__', '__reduce_ex__', '__repr__', '__setattr__', '__sizeof__', '__str__', '__subclasshook__', '__weakref__', 'aid', 'answer', 'batch_size', 'dataset', 'ext_feat', 'fromvars', 'label', 'qid', 'question', 'train']\n"
     ]
    }
   ],
   "source": [
    "print(dir(batch))"
   ]
  },
  {
   "cell_type": "code",
   "execution_count": 110,
   "metadata": {},
   "outputs": [
    {
     "name": "stdout",
     "output_type": "stream",
     "text": [
      "<class 'SST1.SubjDataset'>\n"
     ]
    }
   ],
   "source": [
    "print(type(train))"
   ]
  },
  {
   "cell_type": "code",
   "execution_count": 111,
   "metadata": {},
   "outputs": [
    {
     "data": {
      "text/plain": [
       "{'label': <torchtext.data.field.Field at 0x7f322a56ada0>,\n",
       " 'text': <torchtext.data.field.Field at 0x7f322a56ad68>}"
      ]
     },
     "execution_count": 111,
     "metadata": {},
     "output_type": "execute_result"
    }
   ],
   "source": [
    "train.fields"
   ]
  },
  {
   "cell_type": "code",
   "execution_count": 113,
   "metadata": {},
   "outputs": [
    {
     "data": {
      "text/plain": [
       "1000"
      ]
     },
     "execution_count": 113,
     "metadata": {},
     "output_type": "execute_result"
    }
   ],
   "source": [
    "len(batch.label)"
   ]
  },
  {
   "cell_type": "code",
   "execution_count": 114,
   "metadata": {},
   "outputs": [
    {
     "data": {
      "text/plain": [
       "<torchtext.data.example.Example at 0x7f3222fbaac8>"
      ]
     },
     "execution_count": 114,
     "metadata": {},
     "output_type": "execute_result"
    }
   ],
   "source": [
    "batch.dataset.examples[1]"
   ]
  },
  {
   "cell_type": "code",
   "execution_count": 115,
   "metadata": {},
   "outputs": [
    {
     "data": {
      "text/plain": [
       "7999"
      ]
     },
     "execution_count": 115,
     "metadata": {},
     "output_type": "execute_result"
    }
   ],
   "source": [
    "len(batch.dataset.examples)"
   ]
  },
  {
   "cell_type": "code",
   "execution_count": 116,
   "metadata": {},
   "outputs": [
    {
     "name": "stdout",
     "output_type": "stream",
     "text": [
      "['__class__', '__delattr__', '__dict__', '__dir__', '__doc__', '__eq__', '__format__', '__ge__', '__getattribute__', '__gt__', '__hash__', '__init__', '__init_subclass__', '__le__', '__lt__', '__module__', '__ne__', '__new__', '__reduce__', '__reduce_ex__', '__repr__', '__setattr__', '__sizeof__', '__str__', '__subclasshook__', '__weakref__', 'batch_size', 'dataset', 'fromvars', 'label', 'text', 'train']\n"
     ]
    }
   ],
   "source": [
    "print(dir(batch))"
   ]
  },
  {
   "cell_type": "code",
   "execution_count": 117,
   "metadata": {},
   "outputs": [
    {
     "data": {
      "text/plain": [
       "1000"
      ]
     },
     "execution_count": 117,
     "metadata": {},
     "output_type": "execute_result"
    }
   ],
   "source": [
    "batch.batch_size"
   ]
  },
  {
   "cell_type": "code",
   "execution_count": 120,
   "metadata": {},
   "outputs": [
    {
     "data": {
      "text/plain": [
       "Variable containing:\n",
       "     2    808     21  ...       1      1      1\n",
       "     4      0      5  ...       1      1      1\n",
       "  9685      0     46  ...       1      1      1\n",
       "        ...            ⋱           ...         \n",
       "  4230   2062      9  ...       1      1      1\n",
       "    15      9     63  ...       1      1      1\n",
       "   332     82    908  ...       1      1      1\n",
       "[torch.LongTensor of size 1000x81]"
      ]
     },
     "execution_count": 120,
     "metadata": {},
     "output_type": "execute_result"
    }
   ],
   "source": [
    "batch.text"
   ]
  },
  {
   "cell_type": "code",
   "execution_count": 44,
   "metadata": {
    "collapsed": true
   },
   "outputs": [],
   "source": [
    "# batch.dataset.examples[1].text"
   ]
  },
  {
   "cell_type": "code",
   "execution_count": 124,
   "metadata": {},
   "outputs": [
    {
     "data": {
      "text/plain": [
       "Variable containing:\n",
       "     2    808     21  ...       1      1      1\n",
       "     4      0      5  ...       1      1      1\n",
       "  9685      0     46  ...       1      1      1\n",
       "        ...            ⋱           ...         \n",
       "  4230   2062      9  ...       1      1      1\n",
       "    15      9     63  ...       1      1      1\n",
       "   332     82    908  ...       1      1      1\n",
       "[torch.LongTensor of size 1000x81]"
      ]
     },
     "execution_count": 124,
     "metadata": {},
     "output_type": "execute_result"
    }
   ],
   "source": [
    "batch.text"
   ]
  },
  {
   "cell_type": "code",
   "execution_count": 126,
   "metadata": {},
   "outputs": [
    {
     "name": "stdout",
     "output_type": "stream",
     "text": [
      "['__class__', '__delattr__', '__dict__', '__dir__', '__doc__', '__eq__', '__format__', '__ge__', '__getattribute__', '__gt__', '__hash__', '__init__', '__init_subclass__', '__le__', '__lt__', '__module__', '__ne__', '__new__', '__reduce__', '__reduce_ex__', '__repr__', '__setattr__', '__sizeof__', '__str__', '__subclasshook__', '__weakref__', 'batch_size', 'dataset', 'fromvars', 'label', 'text', 'train']\n"
     ]
    }
   ],
   "source": [
    "print(dir(batch))"
   ]
  },
  {
   "cell_type": "code",
   "execution_count": 131,
   "metadata": {},
   "outputs": [
    {
     "data": {
      "text/plain": [
       "torchtext.data.example.Example"
      ]
     },
     "execution_count": 131,
     "metadata": {},
     "output_type": "execute_result"
    }
   ],
   "source": [
    "type(batch.dataset.examples[1])"
   ]
  },
  {
   "cell_type": "code",
   "execution_count": 132,
   "metadata": {},
   "outputs": [
    {
     "data": {
      "text/plain": [
       "7999"
      ]
     },
     "execution_count": 132,
     "metadata": {},
     "output_type": "execute_result"
    }
   ],
   "source": [
    "len(batch.dataset.examples)"
   ]
  },
  {
   "cell_type": "code",
   "execution_count": 42,
   "metadata": {
    "collapsed": true
   },
   "outputs": [],
   "source": [
    "# dir(batch)"
   ]
  },
  {
   "cell_type": "code",
   "execution_count": 135,
   "metadata": {},
   "outputs": [
    {
     "data": {
      "text/plain": [
       "<torchtext.data.example.Example at 0x7f32230d8f28>"
      ]
     },
     "execution_count": 135,
     "metadata": {},
     "output_type": "execute_result"
    }
   ],
   "source": [
    "batch.dataset[5]"
   ]
  },
  {
   "cell_type": "code",
   "execution_count": null,
   "metadata": {
    "collapsed": true
   },
   "outputs": [],
   "source": []
  },
  {
   "cell_type": "code",
   "execution_count": 139,
   "metadata": {},
   "outputs": [
    {
     "data": {
      "text/plain": [
       "array([   4,    0,    5, 2274,  699, 1016,    8, 6534,  612,    0,    5,\n",
       "         18, 3489, 8614,    1,    1,    1,    1,    1,    1,    1,    1,\n",
       "          1,    1,    1,    1,    1,    1,    1,    1,    1,    1,    1,\n",
       "          1,    1,    1,    1,    1,    1,    1,    1,    1,    1,    1,\n",
       "          1,    1,    1,    1,    1,    1,    1,    1,    1,    1,    1,\n",
       "          1,    1,    1,    1,    1,    1,    1,    1,    1,    1,    1,\n",
       "          1,    1,    1,    1,    1,    1,    1,    1,    1,    1,    1,\n",
       "          1,    1,    1,    1])"
      ]
     },
     "execution_count": 139,
     "metadata": {},
     "output_type": "execute_result"
    }
   ],
   "source": [
    "batch.text[1].data.numpy()"
   ]
  },
  {
   "cell_type": "code",
   "execution_count": 141,
   "metadata": {},
   "outputs": [
    {
     "data": {
      "text/plain": [
       "torch.autograd.variable.Variable"
      ]
     },
     "execution_count": 141,
     "metadata": {},
     "output_type": "execute_result"
    }
   ],
   "source": [
    "type(batch.label)"
   ]
  },
  {
   "cell_type": "code",
   "execution_count": 142,
   "metadata": {},
   "outputs": [
    {
     "data": {
      "text/plain": [
       "Variable containing:\n",
       " 2\n",
       " 2\n",
       " 2\n",
       "⋮ \n",
       " 1\n",
       " 1\n",
       " 1\n",
       "[torch.LongTensor of size 1000]"
      ]
     },
     "execution_count": 142,
     "metadata": {},
     "output_type": "execute_result"
    }
   ],
   "source": [
    "batch.label"
   ]
  },
  {
   "cell_type": "code",
   "execution_count": 143,
   "metadata": {},
   "outputs": [
    {
     "ename": "NameError",
     "evalue": "name 'optimizer' is not defined",
     "output_type": "error",
     "traceback": [
      "\u001b[0;31m---------------------------------------------------------------------------\u001b[0m",
      "\u001b[0;31mNameError\u001b[0m                                 Traceback (most recent call last)",
      "\u001b[0;32m<ipython-input-143-9713fcdc7cc4>\u001b[0m in \u001b[0;36m<module>\u001b[0;34m()\u001b[0m\n\u001b[0;32m----> 1\u001b[0;31m \u001b[0moptimizer\u001b[0m\u001b[0;34m\u001b[0m\u001b[0m\n\u001b[0m",
      "\u001b[0;31mNameError\u001b[0m: name 'optimizer' is not defined"
     ]
    }
   ],
   "source": [
    "optimizer"
   ]
  },
  {
   "cell_type": "code",
   "execution_count": 146,
   "metadata": {
    "collapsed": true
   },
   "outputs": [],
   "source": [
    "parameter = filter(lambda p: p.requires_grad, model.parameters())\n",
    "lr = 1.0\n",
    "weight_decay = 0\n",
    "optimizer = torch.optim.Adadelta(parameter, lr=lr, weight_decay=weight_decay)"
   ]
  },
  {
   "cell_type": "code",
   "execution_count": 147,
   "metadata": {},
   "outputs": [
    {
     "data": {
      "text/plain": [
       "<torch.optim.adadelta.Adadelta at 0x7f3218094588>"
      ]
     },
     "execution_count": 147,
     "metadata": {},
     "output_type": "execute_result"
    }
   ],
   "source": [
    "optimizer"
   ]
  },
  {
   "cell_type": "code",
   "execution_count": 148,
   "metadata": {},
   "outputs": [
    {
     "data": {
      "text/plain": [
       "Variable containing:\n",
       "     2    808     21  ...       1      1      1\n",
       "     4      0      5  ...       1      1      1\n",
       "  9685      0     46  ...       1      1      1\n",
       "        ...            ⋱           ...         \n",
       "  4230   2062      9  ...       1      1      1\n",
       "    15      9     63  ...       1      1      1\n",
       "   332     82    908  ...       1      1      1\n",
       "[torch.LongTensor of size 1000x81]"
      ]
     },
     "execution_count": 148,
     "metadata": {},
     "output_type": "execute_result"
    }
   ],
   "source": [
    "batch.text"
   ]
  },
  {
   "cell_type": "code",
   "execution_count": 151,
   "metadata": {},
   "outputs": [
    {
     "data": {
      "text/plain": [
       "array([[ 0.        ,  0.        ,  0.        , ...,  0.21150009,\n",
       "         0.        ,  0.19599402],\n",
       "       [ 0.        ,  0.        ,  0.        , ...,  0.22643675,\n",
       "         0.2998307 ,  0.15882176],\n",
       "       [ 0.51109791,  0.43724236,  0.        , ...,  0.        ,\n",
       "         0.38846686,  0.        ],\n",
       "       ..., \n",
       "       [ 0.28448257,  0.53172576,  0.        , ...,  0.        ,\n",
       "         0.        ,  0.18477558],\n",
       "       [ 0.3036153 ,  0.46967146,  0.        , ...,  0.23388135,\n",
       "         0.39685246,  0.        ],\n",
       "       [ 0.        ,  0.50386667,  0.        , ...,  0.29729113,\n",
       "         0.41291639,  0.        ]], dtype=float32)"
      ]
     },
     "execution_count": 151,
     "metadata": {},
     "output_type": "execute_result"
    }
   ],
   "source": [
    "features = model(batch)\n"
   ]
  },
  {
   "cell_type": "code",
   "execution_count": 153,
   "metadata": {},
   "outputs": [
    {
     "data": {
      "text/plain": [
       "(300,)"
      ]
     },
     "execution_count": 153,
     "metadata": {},
     "output_type": "execute_result"
    }
   ],
   "source": [
    "features.data.cpu().numpy()[2].shape"
   ]
  },
  {
   "cell_type": "code",
   "execution_count": 155,
   "metadata": {},
   "outputs": [
    {
     "data": {
      "text/plain": [
       "Variable containing:\n",
       "     2    808     21  ...       1      1      1\n",
       "     4      0      5  ...       1      1      1\n",
       "  9685      0     46  ...       1      1      1\n",
       "        ...            ⋱           ...         \n",
       "  4230   2062      9  ...       1      1      1\n",
       "    15      9     63  ...       1      1      1\n",
       "   332     82    908  ...       1      1      1\n",
       "[torch.LongTensor of size 1000x81]"
      ]
     },
     "execution_count": 155,
     "metadata": {},
     "output_type": "execute_result"
    }
   ],
   "source": [
    "batch.text"
   ]
  },
  {
   "cell_type": "code",
   "execution_count": 156,
   "metadata": {
    "collapsed": true
   },
   "outputs": [],
   "source": [
    "a = batch.text[2]\n",
    "b = batch.text[3]"
   ]
  },
  {
   "cell_type": "code",
   "execution_count": 158,
   "metadata": {},
   "outputs": [
    {
     "data": {
      "text/plain": [
       "Variable containing:\n",
       "\n",
       "Columns 0 to 12 \n",
       " 9685     0    46     4  1888  1176  1168     5  2051     0  6811   675    13\n",
       "    2  9789     0   205  4349    43     8    16   104   153     2    35     9\n",
       "\n",
       "Columns 13 to 25 \n",
       "  414   902     0  8597     1     1     1     1     1     1     1     1     1\n",
       "    1     1     1     1     1     1     1     1     1     1     1     1     1\n",
       "\n",
       "Columns 26 to 38 \n",
       "    1     1     1     1     1     1     1     1     1     1     1     1     1\n",
       "    1     1     1     1     1     1     1     1     1     1     1     1     1\n",
       "\n",
       "Columns 39 to 51 \n",
       "    1     1     1     1     1     1     1     1     1     1     1     1     1\n",
       "    1     1     1     1     1     1     1     1     1     1     1     1     1\n",
       "\n",
       "Columns 52 to 64 \n",
       "    1     1     1     1     1     1     1     1     1     1     1     1     1\n",
       "    1     1     1     1     1     1     1     1     1     1     1     1     1\n",
       "\n",
       "Columns 65 to 77 \n",
       "    1     1     1     1     1     1     1     1     1     1     1     1     1\n",
       "    1     1     1     1     1     1     1     1     1     1     1     1     1\n",
       "\n",
       "Columns 78 to 80 \n",
       "    1     1     1\n",
       "    1     1     1\n",
       "[torch.LongTensor of size 2x81]"
      ]
     },
     "execution_count": 158,
     "metadata": {},
     "output_type": "execute_result"
    }
   ],
   "source": [
    "torch.stack([a,b])"
   ]
  },
  {
   "cell_type": "code",
   "execution_count": 163,
   "metadata": {
    "collapsed": true
   },
   "outputs": [],
   "source": [
    "a = np.array([[1,2,3]])"
   ]
  },
  {
   "cell_type": "code",
   "execution_count": 165,
   "metadata": {},
   "outputs": [
    {
     "data": {
      "text/plain": [
       "array([[1, 2, 3],\n",
       "       [1, 2, 3],\n",
       "       [1, 2, 3],\n",
       "       ..., \n",
       "       [1, 2, 3],\n",
       "       [1, 2, 3],\n",
       "       [1, 2, 3]])"
      ]
     },
     "execution_count": 165,
     "metadata": {},
     "output_type": "execute_result"
    }
   ],
   "source": [
    "a.repeat(1000,axis = 0)"
   ]
  },
  {
   "cell_type": "code",
   "execution_count": 166,
   "metadata": {},
   "outputs": [
    {
     "data": {
      "text/plain": [
       "Variable containing:\n",
       "     2    808     21  ...       1      1      1\n",
       "     4      0      5  ...       1      1      1\n",
       "  9685      0     46  ...       1      1      1\n",
       "        ...            ⋱           ...         \n",
       "  4230   2062      9  ...       1      1      1\n",
       "    15      9     63  ...       1      1      1\n",
       "   332     82    908  ...       1      1      1\n",
       "[torch.LongTensor of size 1000x81]"
      ]
     },
     "execution_count": 166,
     "metadata": {},
     "output_type": "execute_result"
    }
   ],
   "source": [
    "batch.text"
   ]
  },
  {
   "cell_type": "code",
   "execution_count": 179,
   "metadata": {},
   "outputs": [
    {
     "data": {
      "text/plain": [
       "Variable containing:\n",
       " 1\n",
       "[torch.LongTensor of size 1]"
      ]
     },
     "execution_count": 179,
     "metadata": {},
     "output_type": "execute_result"
    }
   ],
   "source": [
    "batch.label[4]"
   ]
  },
  {
   "cell_type": "code",
   "execution_count": 181,
   "metadata": {},
   "outputs": [
    {
     "data": {
      "text/plain": [
       "torchtext.data.field.Field"
      ]
     },
     "execution_count": 181,
     "metadata": {},
     "output_type": "execute_result"
    }
   ],
   "source": [
    "type(TEXT)"
   ]
  },
  {
   "cell_type": "code",
   "execution_count": 33,
   "metadata": {
    "collapsed": true
   },
   "outputs": [],
   "source": [
    "\n",
    "index2label = np.array(LABEL.vocab.itos)\n",
    "index2qid = np.array(QID.vocab.itos)\n",
    "index2answer = np.array(ANSWER.vocab.itos)"
   ]
  },
  {
   "cell_type": "code",
   "execution_count": 34,
   "metadata": {},
   "outputs": [
    {
     "data": {
      "text/plain": [
       "array(['<unk>', '<pad>', 'the', ..., 'zvyagintsev', 'zx', 'ø'],\n",
       "      dtype='<U63')"
      ]
     },
     "execution_count": 34,
     "metadata": {},
     "output_type": "execute_result"
    }
   ],
   "source": [
    "index2answer"
   ]
  },
  {
   "cell_type": "code",
   "execution_count": 29,
   "metadata": {},
   "outputs": [
    {
     "data": {
      "text/plain": [
       "array(['<unk>', '63', '3', ..., '7.1', '9', '94'],\n",
       "      dtype='<U5')"
      ]
     },
     "execution_count": 29,
     "metadata": {},
     "output_type": "execute_result"
    }
   ],
   "source": [
    "index2qid"
   ]
  },
  {
   "cell_type": "code",
   "execution_count": 30,
   "metadata": {},
   "outputs": [
    {
     "data": {
      "text/plain": [
       "array(['<unk>', '0', '1'],\n",
       "      dtype='<U5')"
      ]
     },
     "execution_count": 30,
     "metadata": {},
     "output_type": "execute_result"
    }
   ],
   "source": [
    "index2label"
   ]
  },
  {
   "cell_type": "code",
   "execution_count": 31,
   "metadata": {
    "collapsed": true
   },
   "outputs": [],
   "source": [
    "index2question = np.array(QUESTION.vocab.itos)"
   ]
  },
  {
   "cell_type": "code",
   "execution_count": 41,
   "metadata": {},
   "outputs": [
    {
     "data": {
      "text/plain": [
       "'who discovered radium <pad> <pad> <pad> <pad> <pad> <pad> <pad> <pad> <pad> <pad> <pad> <pad> <pad> <pad> <pad> <pad> <pad> <pad> <pad> <pad> <pad> <pad> <pad> <pad> <pad> <pad>'"
      ]
     },
     "execution_count": 41,
     "metadata": {},
     "output_type": "execute_result"
    }
   ],
   "source": [
    "index2question\n",
    "sen = \" \".join([index2answer[x] for x in batch.answer[0].data.cpu().numpy()])\n",
    "\n",
    "\" \".join([index2question[x] for x in batch.question[0].data.cpu().numpy()])    "
   ]
  },
  {
   "cell_type": "code",
   "execution_count": 39,
   "metadata": {},
   "outputs": [
    {
     "data": {
      "text/plain": [
       "'a generation later , with the explosions over japan , frederic and irene joliot-curie felt betrayed by their american colleagues . <pad> <pad> <pad> <pad> <pad> <pad> <pad> <pad> <pad> <pad> <pad> <pad> <pad> <pad> <pad> <pad> <pad> <pad> <pad> <pad> <pad> <pad> <pad> <pad> <pad> <pad> <pad> <pad> <pad> <pad> <pad> <pad> <pad> <pad> <pad> <pad> <pad> <pad> <pad> <pad> <pad> <pad> <pad> <pad> <pad> <pad> <pad> <pad> <pad> <pad> <pad> <pad> <pad> <pad> <pad> <pad> <pad> <pad> <pad> <pad> <pad> <pad> <pad> <pad> <pad> <pad> <pad> <pad> <pad> <pad> <pad> <pad> <pad> <pad> <pad> <pad> <pad> <pad> <pad> <pad> <pad> <pad> <pad> <pad> <pad> <pad> <pad> <pad> <pad> <pad>'"
      ]
     },
     "execution_count": 39,
     "metadata": {},
     "output_type": "execute_result"
    }
   ],
   "source": [
    "sen"
   ]
  },
  {
   "cell_type": "code",
   "execution_count": 46,
   "metadata": {},
   "outputs": [
    {
     "data": {
      "text/plain": [
       "Variable containing:\n",
       "     9\n",
       "  1522\n",
       "   275\n",
       "     3\n",
       "    18\n",
       "     2\n",
       "  5866\n",
       "    89\n",
       "   210\n",
       "     3\n",
       " 13156\n",
       "     7\n",
       " 18836\n",
       " 22567\n",
       "  1972\n",
       " 15727\n",
       "    21\n",
       "    56\n",
       "   107\n",
       "  2958\n",
       "     4\n",
       "[torch.LongTensor of size 21]"
      ]
     },
     "execution_count": 46,
     "metadata": {},
     "output_type": "execute_result"
    }
   ],
   "source": [
    "batch.answer[0][batch.answer[0] != 1]"
   ]
  },
  {
   "cell_type": "code",
   "execution_count": 43,
   "metadata": {
    "collapsed": true
   },
   "outputs": [],
   "source": [
    "# batch.answer[0]"
   ]
  },
  {
   "cell_type": "code",
   "execution_count": 14,
   "metadata": {
    "collapsed": true
   },
   "outputs": [],
   "source": [
    "q2neg = {}\n",
    "q2pos = {}\n",
    "f = open(\"data/trecqa.train.tsv\")\n",
    "for l in f:\n",
    "    ls = l.split(\"\\t\")\n",
    "    qid = int(ls[0])\n",
    "    aid = int(ls[1])\n",
    "    if ls[2] == \"0\":\n",
    "        if qid not in q2neg:\n",
    "            q2neg[qid] = [] \n",
    "        q2neg[qid].append(aid)\n",
    "    elif ls[2] == \"1\":\n",
    "        if qid not in q2pos:\n",
    "            q2pos[qid] = [] \n",
    "        q2pos[qid].append(aid)"
   ]
  },
  {
   "cell_type": "code",
   "execution_count": 13,
   "metadata": {},
   "outputs": [
    {
     "data": {
      "text/plain": [
       "count    1162.000000\n",
       "mean       40.459552\n",
       "std        62.189110\n",
       "min         1.000000\n",
       "25%         8.000000\n",
       "50%        21.000000\n",
       "75%        46.000000\n",
       "max       748.000000\n",
       "dtype: float64"
      ]
     },
     "execution_count": 13,
     "metadata": {},
     "output_type": "execute_result"
    }
   ],
   "source": [
    "import pandas as pd\n",
    "nums = []\n",
    "for key in q2neg:\n",
    "    nums.append(len(q2neg[key]))\n",
    "s = pd.Series(nums)\n",
    "s.describe()"
   ]
  },
  {
   "cell_type": "code",
   "execution_count": 15,
   "metadata": {},
   "outputs": [
    {
     "data": {
      "text/plain": [
       "count    1229.000000\n",
       "mean        5.209927\n",
       "std         6.809162\n",
       "min         1.000000\n",
       "25%         1.000000\n",
       "50%         3.000000\n",
       "75%         6.000000\n",
       "max        51.000000\n",
       "dtype: float64"
      ]
     },
     "execution_count": 15,
     "metadata": {},
     "output_type": "execute_result"
    }
   ],
   "source": [
    "nums = []\n",
    "for key in q2pos:\n",
    "    nums.append(len(q2pos[key]))\n",
    "s = pd.Series(nums)\n",
    "s.describe()"
   ]
  },
  {
   "cell_type": "code",
   "execution_count": 23,
   "metadata": {},
   "outputs": [
    {
     "data": {
      "text/plain": [
       "torch.Size([1000, 4])"
      ]
     },
     "execution_count": 23,
     "metadata": {},
     "output_type": "execute_result"
    }
   ],
   "source": [
    "batch.ext_feat.size()"
   ]
  },
  {
   "cell_type": "code",
   "execution_count": 26,
   "metadata": {},
   "outputs": [
    {
     "data": {
      "text/plain": [
       "Variable containing:\n",
       "   9\n",
       " 747\n",
       " 362\n",
       " 616\n",
       "   7\n",
       "  93\n",
       " 280\n",
       "  22\n",
       " 207\n",
       "   2\n",
       "[torch.LongTensor of size 10]"
      ]
     },
     "execution_count": 26,
     "metadata": {},
     "output_type": "execute_result"
    }
   ],
   "source": [
    "q = batch.question[1]\n",
    "q[q!=1]"
   ]
  },
  {
   "cell_type": "code",
   "execution_count": 31,
   "metadata": {},
   "outputs": [
    {
     "data": {
      "text/plain": [
       "Variable containing:\n",
       " 1\n",
       " 1\n",
       "[torch.FloatTensor of size 2]"
      ]
     },
     "execution_count": 31,
     "metadata": {},
     "output_type": "execute_result"
    }
   ],
   "source": [
    "Variable(torch.ones(2))"
   ]
  },
  {
   "cell_type": "code",
   "execution_count": 34,
   "metadata": {},
   "outputs": [
    {
     "data": {
      "text/plain": [
       "\n",
       " 1\n",
       "[torch.FloatTensor of size 1]"
      ]
     },
     "execution_count": 34,
     "metadata": {},
     "output_type": "execute_result"
    }
   ],
   "source": [
    "torch.max(torch.zeros(1),torch.ones(1))"
   ]
  },
  {
   "cell_type": "code",
   "execution_count": 42,
   "metadata": {},
   "outputs": [
    {
     "data": {
      "text/plain": [
       "torch.Size([2])"
      ]
     },
     "execution_count": 42,
     "metadata": {},
     "output_type": "execute_result"
    }
   ],
   "source": [
    "a = torch.zeros(2)\n",
    "type(a)\n",
    "a.shape"
   ]
  },
  {
   "cell_type": "code",
   "execution_count": 40,
   "metadata": {},
   "outputs": [
    {
     "data": {
      "text/plain": [
       "\n",
       " 0  0\n",
       " 0  0\n",
       "[torch.FloatTensor of size 2x2]"
      ]
     },
     "execution_count": 40,
     "metadata": {},
     "output_type": "execute_result"
    }
   ],
   "source": [
    "torch.mm(a,a)"
   ]
  },
  {
   "cell_type": "code",
   "execution_count": 41,
   "metadata": {},
   "outputs": [
    {
     "data": {
      "text/plain": [
       "torch.Size([2, 2])"
      ]
     },
     "execution_count": 41,
     "metadata": {},
     "output_type": "execute_result"
    }
   ],
   "source": []
  },
  {
   "cell_type": "code",
   "execution_count": 43,
   "metadata": {},
   "outputs": [
    {
     "data": {
      "text/plain": [
       "torch.FloatTensor"
      ]
     },
     "execution_count": 43,
     "metadata": {},
     "output_type": "execute_result"
    }
   ],
   "source": [
    "type(a)"
   ]
  },
  {
   "cell_type": "code",
   "execution_count": 45,
   "metadata": {},
   "outputs": [
    {
     "data": {
      "text/plain": [
       "\n",
       " 0\n",
       " 0\n",
       "[torch.LongTensor of size 2]"
      ]
     },
     "execution_count": 45,
     "metadata": {},
     "output_type": "execute_result"
    }
   ],
   "source": [
    "a.long()"
   ]
  },
  {
   "cell_type": "code",
   "execution_count": 46,
   "metadata": {},
   "outputs": [
    {
     "data": {
      "text/plain": [
       "1000"
      ]
     },
     "execution_count": 46,
     "metadata": {},
     "output_type": "execute_result"
    }
   ],
   "source": [
    "batch.batch_size"
   ]
  },
  {
   "cell_type": "code",
   "execution_count": 48,
   "metadata": {
    "collapsed": true
   },
   "outputs": [],
   "source": [
    "from torch.autograd import Function\n",
    "from torch.autograd import Variable\n",
    "\n",
    "class PairwiseLossCriterion(Function):\n",
    "    \"\"\"docstring for PairwiseLossCriterion\"\"\"\n",
    "    def __init__(self):\n",
    "        super(PairwiseLossCriterion, self).__init__()\n",
    "        self.input = None\n",
    "\n",
    "    def forward(self, input, weight = None, bias = None):\n",
    "        self.input = input\n",
    "        return torch.max(torch.zeros(1), 1 - (input[0] - input[1]))/2\n",
    "\n",
    "    def backward(self, grad_output):\n",
    "        diff = 1 - (self.input[0] - self.input[1])\n",
    "        # print(\"diff:\",diff) #, \"grad_output:\",grad_output, \"type of grad_output:\", type(grad_output)\n",
    "        grad_output = torch.zeros(2)\n",
    "        if diff.numpy()[0] > 0:\n",
    "            grad_output[0] = -0.5\n",
    "            grad_output[1] = 0.5\n",
    "        else:\n",
    "            grad_output[0] = 0\n",
    "            grad_output[1] = 0\n",
    "        return grad_output.view(2, 1)"
   ]
  },
  {
   "cell_type": "code",
   "execution_count": 51,
   "metadata": {},
   "outputs": [
    {
     "ename": "AttributeError",
     "evalue": "'Variable' object has no attribute 'input'",
     "output_type": "error",
     "traceback": [
      "\u001b[0;31m--------------------------------------------------------------------\u001b[0m",
      "\u001b[0;31mAttributeError\u001b[0m                     Traceback (most recent call last)",
      "\u001b[0;32m<ipython-input-51-1346e2b6473a>\u001b[0m in \u001b[0;36m<module>\u001b[0;34m()\u001b[0m\n\u001b[1;32m      5\u001b[0m \u001b[0;31m# approximations and returns True if they all verify this condition.\u001b[0m\u001b[0;34m\u001b[0m\u001b[0;34m\u001b[0m\u001b[0m\n\u001b[1;32m      6\u001b[0m \u001b[0minput\u001b[0m \u001b[0;34m=\u001b[0m \u001b[0;34m(\u001b[0m\u001b[0mVariable\u001b[0m\u001b[0;34m(\u001b[0m\u001b[0mtorch\u001b[0m\u001b[0;34m.\u001b[0m\u001b[0mrandn\u001b[0m\u001b[0;34m(\u001b[0m\u001b[0;36m20\u001b[0m\u001b[0;34m,\u001b[0m\u001b[0;36m20\u001b[0m\u001b[0;34m)\u001b[0m\u001b[0;34m.\u001b[0m\u001b[0mfloat\u001b[0m\u001b[0;34m(\u001b[0m\u001b[0;34m)\u001b[0m\u001b[0;34m,\u001b[0m \u001b[0mrequires_grad\u001b[0m\u001b[0;34m=\u001b[0m\u001b[0;32mTrue\u001b[0m\u001b[0;34m)\u001b[0m\u001b[0;34m,\u001b[0m \u001b[0mVariable\u001b[0m\u001b[0;34m(\u001b[0m\u001b[0mtorch\u001b[0m\u001b[0;34m.\u001b[0m\u001b[0mrandn\u001b[0m\u001b[0;34m(\u001b[0m\u001b[0;36m30\u001b[0m\u001b[0;34m,\u001b[0m\u001b[0;36m20\u001b[0m\u001b[0;34m)\u001b[0m\u001b[0;34m.\u001b[0m\u001b[0mdouble\u001b[0m\u001b[0;34m(\u001b[0m\u001b[0;34m)\u001b[0m\u001b[0;34m,\u001b[0m \u001b[0mrequires_grad\u001b[0m\u001b[0;34m=\u001b[0m\u001b[0;32mTrue\u001b[0m\u001b[0;34m)\u001b[0m\u001b[0;34m,\u001b[0m\u001b[0;34m)\u001b[0m\u001b[0;34m\u001b[0m\u001b[0m\n\u001b[0;32m----> 7\u001b[0;31m \u001b[0mtest\u001b[0m \u001b[0;34m=\u001b[0m \u001b[0mgradcheck\u001b[0m\u001b[0;34m(\u001b[0m\u001b[0mPairwiseLossCriterion\u001b[0m\u001b[0;34m.\u001b[0m\u001b[0mbackward\u001b[0m\u001b[0;34m,\u001b[0m \u001b[0minput\u001b[0m\u001b[0;34m,\u001b[0m \u001b[0meps\u001b[0m\u001b[0;34m=\u001b[0m\u001b[0;36m1e-6\u001b[0m\u001b[0;34m,\u001b[0m \u001b[0matol\u001b[0m\u001b[0;34m=\u001b[0m\u001b[0;36m1e-4\u001b[0m\u001b[0;34m)\u001b[0m\u001b[0;34m\u001b[0m\u001b[0m\n\u001b[0m\u001b[1;32m      8\u001b[0m \u001b[0mprint\u001b[0m\u001b[0;34m(\u001b[0m\u001b[0mtest\u001b[0m\u001b[0;34m)\u001b[0m\u001b[0;34m\u001b[0m\u001b[0m\n",
      "\u001b[0;32m~/anaconda3/lib/python3.6/site-packages/torch/autograd/gradcheck.py\u001b[0m in \u001b[0;36mgradcheck\u001b[0;34m(func, inputs, eps, atol, rtol, raise_exception)\u001b[0m\n\u001b[1;32m    155\u001b[0m         \u001b[0;32mTrue\u001b[0m \u001b[0;32mif\u001b[0m \u001b[0mall\u001b[0m \u001b[0mdifferences\u001b[0m \u001b[0msatisfy\u001b[0m \u001b[0mallclose\u001b[0m \u001b[0mcondition\u001b[0m\u001b[0;34m\u001b[0m\u001b[0m\n\u001b[1;32m    156\u001b[0m     \"\"\"\n\u001b[0;32m--> 157\u001b[0;31m     \u001b[0moutput\u001b[0m \u001b[0;34m=\u001b[0m \u001b[0mfunc\u001b[0m\u001b[0;34m(\u001b[0m\u001b[0;34m*\u001b[0m\u001b[0minputs\u001b[0m\u001b[0;34m)\u001b[0m\u001b[0;34m\u001b[0m\u001b[0m\n\u001b[0m\u001b[1;32m    158\u001b[0m     \u001b[0moutput\u001b[0m \u001b[0;34m=\u001b[0m \u001b[0m_as_tuple\u001b[0m\u001b[0;34m(\u001b[0m\u001b[0moutput\u001b[0m\u001b[0;34m)\u001b[0m\u001b[0;34m\u001b[0m\u001b[0m\n\u001b[1;32m    159\u001b[0m \u001b[0;34m\u001b[0m\u001b[0m\n",
      "\u001b[0;32m<ipython-input-48-b3779f192554>\u001b[0m in \u001b[0;36mbackward\u001b[0;34m(self, grad_output)\u001b[0m\n\u001b[1;32m     11\u001b[0m \u001b[0;34m\u001b[0m\u001b[0m\n\u001b[1;32m     12\u001b[0m     \u001b[0;32mdef\u001b[0m \u001b[0mbackward\u001b[0m\u001b[0;34m(\u001b[0m\u001b[0mself\u001b[0m\u001b[0;34m,\u001b[0m \u001b[0mgrad_output\u001b[0m\u001b[0;34m)\u001b[0m\u001b[0;34m:\u001b[0m\u001b[0;34m\u001b[0m\u001b[0m\n\u001b[0;32m---> 13\u001b[0;31m         \u001b[0mdiff\u001b[0m \u001b[0;34m=\u001b[0m \u001b[0;36m1\u001b[0m \u001b[0;34m-\u001b[0m \u001b[0;34m(\u001b[0m\u001b[0mself\u001b[0m\u001b[0;34m.\u001b[0m\u001b[0minput\u001b[0m\u001b[0;34m[\u001b[0m\u001b[0;36m0\u001b[0m\u001b[0;34m]\u001b[0m \u001b[0;34m-\u001b[0m \u001b[0mself\u001b[0m\u001b[0;34m.\u001b[0m\u001b[0minput\u001b[0m\u001b[0;34m[\u001b[0m\u001b[0;36m1\u001b[0m\u001b[0;34m]\u001b[0m\u001b[0;34m)\u001b[0m\u001b[0;34m\u001b[0m\u001b[0m\n\u001b[0m\u001b[1;32m     14\u001b[0m         \u001b[0;31m# print(\"diff:\",diff) #, \"grad_output:\",grad_output, \"type of grad_output:\", type(grad_output)\u001b[0m\u001b[0;34m\u001b[0m\u001b[0;34m\u001b[0m\u001b[0m\n\u001b[1;32m     15\u001b[0m         \u001b[0mgrad_output\u001b[0m \u001b[0;34m=\u001b[0m \u001b[0mtorch\u001b[0m\u001b[0;34m.\u001b[0m\u001b[0mzeros\u001b[0m\u001b[0;34m(\u001b[0m\u001b[0;36m2\u001b[0m\u001b[0;34m)\u001b[0m\u001b[0;34m\u001b[0m\u001b[0m\n",
      "\u001b[0;32m~/anaconda3/lib/python3.6/site-packages/torch/autograd/variable.py\u001b[0m in \u001b[0;36m__getattr__\u001b[0;34m(self, name)\u001b[0m\n\u001b[1;32m     65\u001b[0m         \u001b[0;32mif\u001b[0m \u001b[0mname\u001b[0m \u001b[0;32min\u001b[0m \u001b[0mself\u001b[0m\u001b[0;34m.\u001b[0m\u001b[0m_fallthrough_methods\u001b[0m\u001b[0;34m:\u001b[0m\u001b[0;34m\u001b[0m\u001b[0m\n\u001b[1;32m     66\u001b[0m             \u001b[0;32mreturn\u001b[0m \u001b[0mgetattr\u001b[0m\u001b[0;34m(\u001b[0m\u001b[0mself\u001b[0m\u001b[0;34m.\u001b[0m\u001b[0mdata\u001b[0m\u001b[0;34m,\u001b[0m \u001b[0mname\u001b[0m\u001b[0;34m)\u001b[0m\u001b[0;34m\u001b[0m\u001b[0m\n\u001b[0;32m---> 67\u001b[0;31m         \u001b[0;32mreturn\u001b[0m \u001b[0mobject\u001b[0m\u001b[0;34m.\u001b[0m\u001b[0m__getattribute__\u001b[0m\u001b[0;34m(\u001b[0m\u001b[0mself\u001b[0m\u001b[0;34m,\u001b[0m \u001b[0mname\u001b[0m\u001b[0;34m)\u001b[0m\u001b[0;34m\u001b[0m\u001b[0m\n\u001b[0m\u001b[1;32m     68\u001b[0m \u001b[0;34m\u001b[0m\u001b[0m\n\u001b[1;32m     69\u001b[0m     \u001b[0;32mdef\u001b[0m \u001b[0m__getitem__\u001b[0m\u001b[0;34m(\u001b[0m\u001b[0mself\u001b[0m\u001b[0;34m,\u001b[0m \u001b[0mkey\u001b[0m\u001b[0;34m)\u001b[0m\u001b[0;34m:\u001b[0m\u001b[0;34m\u001b[0m\u001b[0m\n",
      "\u001b[0;31mAttributeError\u001b[0m: 'Variable' object has no attribute 'input'"
     ]
    }
   ],
   "source": [
    "from torch.autograd import gradcheck\n",
    "\n",
    "# gradchek takes a tuple of tensor as input, check if your gradient\n",
    "# evaluated with these tensors are close enough to numerical\n",
    "# approximations and returns True if they all verify this condition.\n",
    "input = (Variable(torch.randn(20,20).float(), requires_grad=True), Variable(torch.randn(20,20).float(), requires_grad=True),)\n",
    "test = gradcheck(PairwiseLossCriterion.backward, input, eps=1e-6, atol=1e-4)\n",
    "print(test)"
   ]
  },
  {
   "cell_type": "code",
   "execution_count": 54,
   "metadata": {},
   "outputs": [
    {
     "name": "stdout",
     "output_type": "stream",
     "text": [
      "False\n"
     ]
    }
   ],
   "source": [
    "# Inherit from Function\n",
    "class LinearFunction(Function):\n",
    "\n",
    "    # Note that both forward and backward are @staticmethods\n",
    "    @staticmethod\n",
    "    # bias is an optional argument\n",
    "    def forward(ctx, input, weight, bias=None):\n",
    "        ctx.save_for_backward(input, weight, bias)\n",
    "        output = input.mm(weight.t())\n",
    "        if bias is not None:\n",
    "            output += bias.unsqueeze(0).expand_as(output)\n",
    "        return output\n",
    "\n",
    "    # This function has only a single output, so it gets only one gradient\n",
    "    @staticmethod\n",
    "    def backward(ctx, grad_output):\n",
    "        # This is a pattern that is very convenient - at the top of backward\n",
    "        # unpack saved_tensors and initialize all gradients w.r.t. inputs to\n",
    "        # None. Thanks to the fact that additional trailing Nones are\n",
    "        # ignored, the return statement is simple even when the function has\n",
    "        # optional inputs.\n",
    "        input, weight, bias = ctx.saved_variables\n",
    "        grad_input = grad_weight = grad_bias = None\n",
    "\n",
    "        # These needs_input_grad checks are optional and there only to\n",
    "        # improve efficiency. If you want to make your code simpler, you can\n",
    "        # skip them. Returning gradients for inputs that don't require it is\n",
    "        # not an error.\n",
    "        if ctx.needs_input_grad[0]:\n",
    "            grad_input = grad_output.mm(weight)\n",
    "        if ctx.needs_input_grad[1]:\n",
    "            grad_weight = grad_output.t().mm(input)\n",
    "        if bias is not None and ctx.needs_input_grad[2]:\n",
    "            grad_bias = grad_output.sum(0).squeeze(0)\n",
    "\n",
    "        return grad_input, grad_weight, grad_bias\n",
    "\n",
    "from torch.autograd import gradcheck\n",
    "\n",
    "# gradchek takes a tuple of tensor as input, check if your gradient\n",
    "# evaluated with these tensors are close enough to numerical\n",
    "# approximations and returns True if they all verify this condition.\n",
    "input = (Variable(torch.randn(20,20).double(), requires_grad=True), Variable(torch.randn(30,20).double(), requires_grad=True),)\n",
    "test = gradcheck(LinearFunction.apply, input, eps=1e-6, atol=1e-4)\n",
    "print(test)"
   ]
  },
  {
   "cell_type": "code",
   "execution_count": 8,
   "metadata": {},
   "outputs": [],
   "source": [
    "a = torch.ones(1)"
   ]
  },
  {
   "cell_type": "code",
   "execution_count": 9,
   "metadata": {},
   "outputs": [
    {
     "data": {
      "text/plain": [
       "torch.FloatTensor"
      ]
     },
     "execution_count": 9,
     "metadata": {},
     "output_type": "execute_result"
    }
   ],
   "source": [
    "type(a)"
   ]
  },
  {
   "cell_type": "code",
   "execution_count": 10,
   "metadata": {},
   "outputs": [
    {
     "data": {
      "text/plain": [
       "<function dict.keys>"
      ]
     },
     "execution_count": 10,
     "metadata": {},
     "output_type": "execute_result"
    }
   ],
   "source": [
    "a = {1:2}\n",
    "a.keys"
   ]
  },
  {
   "cell_type": "code",
   "execution_count": 21,
   "metadata": {},
   "outputs": [
    {
     "data": {
      "text/plain": [
       "'1734'"
      ]
     },
     "execution_count": 21,
     "metadata": {},
     "output_type": "execute_result"
    }
   ],
   "source": [
    "index2qid = np.array(QID.vocab.itos)\n",
    "index2qid[1360]\n"
   ]
  },
  {
   "cell_type": "code",
   "execution_count": 17,
   "metadata": {},
   "outputs": [
    {
     "data": {
      "text/plain": [
       "array(['<unk>', '<pad>', '?', ..., 'waltz', 'yaroslavl', 'zero'],\n",
       "      dtype='<U18')"
      ]
     },
     "execution_count": 17,
     "metadata": {},
     "output_type": "execute_result"
    }
   ],
   "source": [
    "index2question = np.array(QUESTION.vocab.itos)\n",
    "index2question"
   ]
  },
  {
   "cell_type": "code",
   "execution_count": 19,
   "metadata": {},
   "outputs": [
    {
     "data": {
      "text/plain": [
       "'orpheus'"
      ]
     },
     "execution_count": 19,
     "metadata": {},
     "output_type": "execute_result"
    }
   ],
   "source": [
    "index2answer = np.array(ANSWER.vocab.itos)\n",
    "index2answer[30299]"
   ]
  },
  {
   "cell_type": "code",
   "execution_count": 20,
   "metadata": {},
   "outputs": [
    {
     "data": {
      "text/plain": [
       "'36635'"
      ]
     },
     "execution_count": 20,
     "metadata": {},
     "output_type": "execute_result"
    }
   ],
   "source": [
    "index2aid = np.array(AID.vocab.itos)\n",
    "index2aid[30299]"
   ]
  },
  {
   "cell_type": "code",
   "execution_count": 29,
   "metadata": {
    "collapsed": true
   },
   "outputs": [],
   "source": [
    "a = [1,2,3,4]\n",
    "a = np.array(a)"
   ]
  },
  {
   "cell_type": "code",
   "execution_count": 30,
   "metadata": {},
   "outputs": [
    {
     "ename": "TypeError",
     "evalue": "only integer scalar arrays can be converted to a scalar index",
     "output_type": "error",
     "traceback": [
      "\u001b[0;31m---------------------------------------------------------------------------\u001b[0m",
      "\u001b[0;31mTypeError\u001b[0m                                 Traceback (most recent call last)",
      "\u001b[0;32m<ipython-input-30-2cbdd4499b37>\u001b[0m in \u001b[0;36m<module>\u001b[0;34m()\u001b[0m\n\u001b[0;32m----> 1\u001b[0;31m \u001b[0ma\u001b[0m\u001b[0;34m[\u001b[0m\u001b[0mnp\u001b[0m\u001b[0;34m.\u001b[0m\u001b[0marray\u001b[0m\u001b[0;34m(\u001b[0m\u001b[0;34m[\u001b[0m\u001b[0;32mTrue\u001b[0m\u001b[0;34m,\u001b[0m\u001b[0;32mTrue\u001b[0m\u001b[0;34m,\u001b[0m\u001b[0;32mTrue\u001b[0m\u001b[0;34m,\u001b[0m\u001b[0;32mFalse\u001b[0m\u001b[0;34m]\u001b[0m\u001b[0;34m)\u001b[0m\u001b[0;34m]\u001b[0m\u001b[0;34m\u001b[0m\u001b[0m\n\u001b[0m",
      "\u001b[0;31mTypeError\u001b[0m: only integer scalar arrays can be converted to a scalar index"
     ]
    }
   ],
   "source": [
    "a[np.array([True,True,True,False])]"
   ]
  },
  {
   "cell_type": "code",
   "execution_count": 40,
   "metadata": {
    "collapsed": true
   },
   "outputs": [],
   "source": [
    "pos_feature = np.array([3,4])\n",
    "neg_feature = np.array([1,-1])\n",
    "\n",
    "pos_feature_norm = pos_feature / np.sqrt(sum(pos_feature ** 2))\n",
    "neg_feature_norm = neg_feature / np.sqrt(sum(neg_feature ** 2))\n",
    "\n",
    "dis = 1 - neg_feature_norm.dot(pos_feature_norm)"
   ]
  },
  {
   "cell_type": "code",
   "execution_count": 41,
   "metadata": {},
   "outputs": [
    {
     "data": {
      "text/plain": [
       "1.1414213562373097"
      ]
     },
     "execution_count": 41,
     "metadata": {},
     "output_type": "execute_result"
    }
   ],
   "source": [
    "dis"
   ]
  },
  {
   "cell_type": "code",
   "execution_count": 46,
   "metadata": {},
   "outputs": [
    {
     "data": {
      "text/plain": [
       "[(-1, 4), (1, 3)]"
      ]
     },
     "execution_count": 46,
     "metadata": {},
     "output_type": "execute_result"
    }
   ],
   "source": [
    "d = {1:3,-1:4}\n",
    "sorted(d.items(), key=lambda t: t[0])"
   ]
  },
  {
   "cell_type": "code",
   "execution_count": null,
   "metadata": {
    "collapsed": true
   },
   "outputs": [],
   "source": []
  }
 ],
 "metadata": {
  "kernelspec": {
   "display_name": "Python 3",
   "language": "python",
   "name": "python3"
  },
  "language_info": {
   "codemirror_mode": {
    "name": "ipython",
    "version": 3
   },
   "file_extension": ".py",
   "mimetype": "text/x-python",
   "name": "python",
   "nbconvert_exporter": "python",
   "pygments_lexer": "ipython3",
   "version": "3.6.2"
  }
 },
 "nbformat": 4,
 "nbformat_minor": 2
}
